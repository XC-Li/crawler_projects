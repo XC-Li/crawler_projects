{
 "cells": [
  {
   "cell_type": "markdown",
   "metadata": {},
   "source": [
    "# Prototype Version 1\n",
    "Dec.25 2018"
   ]
  },
  {
   "cell_type": "code",
   "execution_count": 57,
   "metadata": {},
   "outputs": [],
   "source": [
    "from urllib.request import urlopen\n",
    "from urllib.parse import quote\n",
    "from bs4 import BeautifulSoup\n",
    "import pandas as pd\n",
    "import time"
   ]
  },
  {
   "cell_type": "code",
   "execution_count": 89,
   "metadata": {},
   "outputs": [],
   "source": [
    "def transform_number(s):\n",
    "    if s[-1] == '亿':\n",
    "        return int(float(s[:-1])*1e8)\n",
    "    elif s[-1] == '万':\n",
    "        return int(float(s[:-1])*1e4)\n",
    "    else:\n",
    "        return int(s)"
   ]
  },
  {
   "cell_type": "code",
   "execution_count": 175,
   "metadata": {},
   "outputs": [],
   "source": [
    "def get_read_discuss(keyword):\n",
    "    link = quote('#'+keyword+'#')\n",
    "    url = 'https://s.weibo.com/weibo?q='+link\n",
    "    response = urlopen(url,timeout=10)\n",
    "    soup = BeautifulSoup(response, 'lxml')\n",
    "\n",
    "    text = soup.find('div', 'total')\n",
    "    read = transform_number(text.find_all('span')[0].string[2:])\n",
    "    discuss = transform_number(text.find_all('span')[1].string[2:])\n",
    "    return read,discuss"
   ]
  },
  {
   "cell_type": "code",
   "execution_count": 176,
   "metadata": {},
   "outputs": [],
   "source": [
    "from datetime import timedelta, datetime\n",
    "import time\n",
    "def get_time():\n",
    "    if time.localtime(time.time()).tm_isdst == 0:\n",
    "        dt = str(datetime.now() + timedelta(hours=13))\n",
    "    else:\n",
    "        dt = str(datetime.now() + timedelta(hours=12))\n",
    "    year = int(dt[0:4])\n",
    "    month = int(dt[5:7])\n",
    "    day = int(dt[8:10])\n",
    "    hour = int(dt[11:13])\n",
    "    minute = int(dt[14:16])\n",
    "    \n",
    "    return year, month, day, hour, minute"
   ]
  },
  {
   "cell_type": "code",
   "execution_count": 179,
   "metadata": {},
   "outputs": [],
   "source": [
    "def get_hot():\n",
    "    year, month, day, hour, minute = get_time()\n",
    "    hot_url = 'https://s.weibo.com/top/summary?cate=realtimehot'\n",
    "    response = urlopen(hot_url,timeout=10)\n",
    "    soup = BeautifulSoup(response, 'lxml')\n",
    "    hot_list = []\n",
    "    print('key_word,number, read, discuss')\n",
    "    for i in soup.find_all(name='tr'):\n",
    "        text = i.find('td','td-02')\n",
    "        if text is not None:\n",
    "            key_word = text.a.contents[0]\n",
    "            link = text.a.attrs['href']\n",
    "            if text.span is not None:\n",
    "                number = text.span.string\n",
    "                read, discuss = get_read_discuss(key_word)\n",
    "                print(year, month, day, hour, minute,key_word, number, read, discuss)\n",
    "                hot_list.append([year, month, day, hour, minute, key_word, number, read, discuss])\n",
    "    return hot_list"
   ]
  },
  {
   "cell_type": "code",
   "execution_count": 178,
   "metadata": {},
   "outputs": [
    {
     "name": "stdout",
     "output_type": "stream",
     "text": [
      "key_word,number, read, discuss\n",
      "2018 12 29 3 59 刘德华现场中止演唱会  114990 210000000 43000\n",
      "2018 12 29 3 59 周子瑜太撩了 61397 120000000 14000\n",
      "some error\n"
     ]
    }
   ],
   "source": [
    "try:\n",
    "    hot_list = get_hot()\n",
    "except:\n",
    "    print('some error')"
   ]
  },
  {
   "cell_type": "code",
   "execution_count": 169,
   "metadata": {},
   "outputs": [],
   "source": [
    "import csv\n",
    "def write_csv(hot_list):\n",
    "    year, month, _, _, _ = get_time()\n",
    "    with open(str(year)+'-'+str(month)+'.csv', 'a') as csvFile:\n",
    "        writer = csv.writer(csvFile, lineterminator='\\n')\n",
    "        for row in hot_list:\n",
    "            writer.writerow(row)\n"
   ]
  },
  {
   "cell_type": "code",
   "execution_count": 170,
   "metadata": {},
   "outputs": [],
   "source": [
    "write_csv(hot_list)"
   ]
  }
 ],
 "metadata": {
  "kernelspec": {
   "display_name": "Python 3",
   "language": "python",
   "name": "python3"
  },
  "language_info": {
   "codemirror_mode": {
    "name": "ipython",
    "version": 3
   },
   "file_extension": ".py",
   "mimetype": "text/x-python",
   "name": "python",
   "nbconvert_exporter": "python",
   "pygments_lexer": "ipython3",
   "version": "3.6.7"
  }
 },
 "nbformat": 4,
 "nbformat_minor": 2
}
